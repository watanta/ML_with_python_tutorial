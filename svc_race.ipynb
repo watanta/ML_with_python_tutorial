{
 "cells": [
  {
   "cell_type": "code",
   "execution_count": 1,
   "metadata": {},
   "outputs": [],
   "source": [
    "import pandas as pd\n",
    "from sklearn.model_selection import GridSearchCV\n",
    "import numpy as np\n",
    "import seaborn as sns\n",
    "import matplotlib.pyplot as plt\n",
    "from sklearn import svm\n",
    "from sklearn.model_selection import train_test_split\n",
    "from sklearn.metrics import confusion_matrix\n",
    "import re\n",
    "from sklearn.externals import joblib\n",
    "from sklearn.model_selection import GroupShuffleSplit\n",
    "%matplotlib inline"
   ]
  },
  {
   "cell_type": "code",
   "execution_count": 2,
   "metadata": {},
   "outputs": [
    {
     "name": "stdout",
     "output_type": "stream",
     "text": [
      "データの形\n",
      "(29918, 12)\n"
     ]
    },
    {
     "data": {
      "text/html": [
       "<div>\n",
       "<style>\n",
       "    .dataframe thead tr:only-child th {\n",
       "        text-align: right;\n",
       "    }\n",
       "\n",
       "    .dataframe thead th {\n",
       "        text-align: left;\n",
       "    }\n",
       "\n",
       "    .dataframe tbody tr th {\n",
       "        vertical-align: top;\n",
       "    }\n",
       "</style>\n",
       "<table border=\"1\" class=\"dataframe\">\n",
       "  <thead>\n",
       "    <tr style=\"text-align: right;\">\n",
       "      <th></th>\n",
       "      <th>racekey</th>\n",
       "      <th>horse_number</th>\n",
       "      <th>horse_name</th>\n",
       "      <th>order_of_finish</th>\n",
       "      <th>popularity</th>\n",
       "      <th>horse_weight</th>\n",
       "      <th>tanshou_odds</th>\n",
       "      <th>hukushou_odds</th>\n",
       "      <th>tanshou_odds_at10</th>\n",
       "      <th>hukushou_odds_at10</th>\n",
       "      <th>IDM</th>\n",
       "      <th>hot_code</th>\n",
       "    </tr>\n",
       "  </thead>\n",
       "  <tbody>\n",
       "    <tr>\n",
       "      <th>0</th>\n",
       "      <td>216220101</td>\n",
       "      <td>1410370320160710</td>\n",
       "      <td>マイネルトルペード</td>\n",
       "      <td>2</td>\n",
       "      <td>4</td>\n",
       "      <td>412</td>\n",
       "      <td>15.8</td>\n",
       "      <td>1.3</td>\n",
       "      <td>14.4</td>\n",
       "      <td>1.4</td>\n",
       "      <td>31</td>\n",
       "      <td>3</td>\n",
       "    </tr>\n",
       "    <tr>\n",
       "      <th>1</th>\n",
       "      <td>216220102</td>\n",
       "      <td>1410026420160710</td>\n",
       "      <td>アントレーン</td>\n",
       "      <td>6</td>\n",
       "      <td>2</td>\n",
       "      <td>418</td>\n",
       "      <td>6.9</td>\n",
       "      <td>1</td>\n",
       "      <td>6.4</td>\n",
       "      <td>1.1</td>\n",
       "      <td>18</td>\n",
       "      <td>3</td>\n",
       "    </tr>\n",
       "    <tr>\n",
       "      <th>2</th>\n",
       "      <td>216220103</td>\n",
       "      <td>1410432120160710</td>\n",
       "      <td>ジャストヒーロー</td>\n",
       "      <td>8</td>\n",
       "      <td>9</td>\n",
       "      <td>458</td>\n",
       "      <td>145.4</td>\n",
       "      <td>10</td>\n",
       "      <td>58.3</td>\n",
       "      <td>10.1</td>\n",
       "      <td>11</td>\n",
       "      <td>3</td>\n",
       "    </tr>\n",
       "    <tr>\n",
       "      <th>3</th>\n",
       "      <td>216220104</td>\n",
       "      <td>1410141620160710</td>\n",
       "      <td>サツキチャン</td>\n",
       "      <td>7</td>\n",
       "      <td>5</td>\n",
       "      <td>408</td>\n",
       "      <td>19.8</td>\n",
       "      <td>1.5</td>\n",
       "      <td>16.4</td>\n",
       "      <td>1.4</td>\n",
       "      <td>15</td>\n",
       "      <td>3</td>\n",
       "    </tr>\n",
       "    <tr>\n",
       "      <th>4</th>\n",
       "      <td>216220105</td>\n",
       "      <td>1410515620160710</td>\n",
       "      <td>サクセスムーン</td>\n",
       "      <td>4</td>\n",
       "      <td>8</td>\n",
       "      <td>442</td>\n",
       "      <td>102.3</td>\n",
       "      <td>7.9</td>\n",
       "      <td>39.1</td>\n",
       "      <td>5.4</td>\n",
       "      <td>29</td>\n",
       "      <td>3</td>\n",
       "    </tr>\n",
       "  </tbody>\n",
       "</table>\n",
       "</div>"
      ],
      "text/plain": [
       "     racekey      horse_number          horse_name order_of_finish popularity  \\\n",
       "0  216220101  1410370320160710  マイネルトルペード　　　　　　　　　               2          4   \n",
       "1  216220102  1410026420160710  アントレーン　　　　　　　　　　　　               6          2   \n",
       "2  216220103  1410432120160710  ジャストヒーロー　　　　　　　　　　               8          9   \n",
       "3  216220104  1410141620160710  サツキチャン　　　　　　　　　　　　               7          5   \n",
       "4  216220105  1410515620160710  サクセスムーン　　　　　　　　　　　               4          8   \n",
       "\n",
       "   horse_weight tanshou_odds hukushou_odds tanshou_odds_at10  \\\n",
       "0           412         15.8           1.3              14.4   \n",
       "1           418          6.9             1               6.4   \n",
       "2           458        145.4            10              58.3   \n",
       "3           408         19.8           1.5              16.4   \n",
       "4           442        102.3           7.9              39.1   \n",
       "\n",
       "  hukushou_odds_at10 IDM hot_code  \n",
       "0                1.4  31        3  \n",
       "1                1.1  18        3  \n",
       "2               10.1  11        3  \n",
       "3                1.4  15        3  \n",
       "4                5.4  29        3  "
      ]
     },
     "execution_count": 2,
     "metadata": {},
     "output_type": "execute_result"
    }
   ],
   "source": [
    "data = pd.read_csv(\"keiba.csv\",encoding=\"shift-jis\",na_values=\"\")\n",
    "print(\"データの形\")\n",
    "print(data.shape)\n",
    "data.head()"
   ]
  },
  {
   "cell_type": "code",
   "execution_count": 3,
   "metadata": {},
   "outputs": [],
   "source": [
    "#raceのみを表すID\n",
    "data.loc[:,\"raceid\"] = data.loc[:,\"racekey\"].str[:7]"
   ]
  },
  {
   "cell_type": "code",
   "execution_count": 4,
   "metadata": {},
   "outputs": [
    {
     "name": "stderr",
     "output_type": "stream",
     "text": [
      "C:\\ProgramData\\Anaconda3\\lib\\site-packages\\ipykernel_launcher.py:1: UserWarning: This pattern has match groups. To actually get the groups, use str.extract.\n",
      "  \"\"\"Entry point for launching an IPython kernel.\n",
      "C:\\ProgramData\\Anaconda3\\lib\\site-packages\\ipykernel_launcher.py:2: UserWarning: This pattern has match groups. To actually get the groups, use str.extract.\n",
      "  \n",
      "C:\\ProgramData\\Anaconda3\\lib\\site-packages\\ipykernel_launcher.py:3: UserWarning: This pattern has match groups. To actually get the groups, use str.extract.\n",
      "  This is separate from the ipykernel package so we can avoid doing imports until\n",
      "C:\\ProgramData\\Anaconda3\\lib\\site-packages\\ipykernel_launcher.py:4: UserWarning: This pattern has match groups. To actually get the groups, use str.extract.\n",
      "  after removing the cwd from sys.path.\n",
      "C:\\ProgramData\\Anaconda3\\lib\\site-packages\\ipykernel_launcher.py:5: UserWarning: This pattern has match groups. To actually get the groups, use str.extract.\n",
      "  \"\"\"\n",
      "C:\\ProgramData\\Anaconda3\\lib\\site-packages\\ipykernel_launcher.py:6: UserWarning: This pattern has match groups. To actually get the groups, use str.extract.\n",
      "  \n"
     ]
    }
   ],
   "source": [
    "data = data[data[\"order_of_finish\"].str.contains(\"(\\d)+\")]\n",
    "data = data[data[\"popularity\"].str.contains(\"(\\d)+\")]\n",
    "data = data[data[\"tanshou_odds\"].str.contains(\"(\\d)+\")]\n",
    "data = data[data[\"IDM\"].str.contains(\"(\\d)+\")]\n",
    "data = data[data[\"hot_code\"].str.contains(\"(\\d)+\")]\n",
    "data = data[data[\"tanshou_odds_at10\"].str.contains(\"^(\\d)+(?!.*\\s).*$\")]"
   ]
  },
  {
   "cell_type": "code",
   "execution_count": 5,
   "metadata": {},
   "outputs": [],
   "source": [
    "data.loc[:,\"order_of_finish_num\"] = data.loc[:,\"order_of_finish\"].astype(int)\n",
    "data.loc[:,\"popularity_num\"] = data.loc[:,\"popularity\"].astype(int)\n",
    "data.loc[:,\"horse_weight_num\"] = data.loc[:,\"horse_weight\"].astype(int)\n",
    "data.loc[:,\"tanshou_odds_num\"] = data.loc[:,\"tanshou_odds\"].astype(float)\n",
    "data.loc[:,\"tanshou_odds_at10_num\"] = data.loc[:,\"tanshou_odds_at10\"].astype(float)\n",
    "data.loc[:,\"IDM_num\"] = data.loc[:,\"IDM\"].astype(float)\n",
    "data.loc[:,\"hot_code_num\"] = data.loc[:,\"hot_code\"].astype(float)"
   ]
  },
  {
   "cell_type": "code",
   "execution_count": 6,
   "metadata": {},
   "outputs": [],
   "source": [
    "#人気の異常値をもつ行を削除\n",
    "data =  data.loc[(data.loc[:,\"popularity_num\"]>=1) & (data.loc[:,\"popularity_num\"]<=18),:]\n"
   ]
  },
  {
   "cell_type": "code",
   "execution_count": 8,
   "metadata": {},
   "outputs": [],
   "source": [
    "#探勝したかどうかをしめす列を追加\n",
    "data.loc[:,\"tanshou_flag\"] = (data.loc[:,\"order_of_finish_num\"] == 1)\n"
   ]
  },
  {
   "cell_type": "code",
   "execution_count": 9,
   "metadata": {},
   "outputs": [
    {
     "name": "stdout",
     "output_type": "stream",
     "text": [
      "デザインマトリックスの形\n",
      "(28348, 21)\n",
      "ラベルマトリックス\n",
      "(28348, 1)\n"
     ]
    }
   ],
   "source": [
    "features = [\"popularity_num\",\"horse_weight_num\",\"tanshou_odds_at10_num\",\"IDM_num\",\"hot_code_num\"]\n",
    "target = [\"tanshou_flag\"]\n",
    "\n",
    "X = data\n",
    "y = data.loc[:,target]\n",
    "X = X.reset_index(drop=True)\n",
    "y = y.reset_index(drop=True)\n",
    "print(\"デザインマトリックスの形\")\n",
    "print(X.shape)\n",
    "print(\"ラベルマトリックス\")\n",
    "print(y.shape)"
   ]
  },
  {
   "cell_type": "code",
   "execution_count": null,
   "metadata": {},
   "outputs": [],
   "source": [
    "np.set_printoptions(threshold=np.inf)\n",
    "\n",
    "#レース単位で分割する\n",
    "gss = GroupShuffleSplit(n_splits=1, test_size=0.2, random_state=0)\n",
    "#trainとtestにわける\n",
    "for train, test in gss.split(X,y,groups=data[\"raceid\"].values.flatten()):\n",
    "    print( \"%s %s\" % (train,test))\n",
    "    print( \"%s %s\" % (train.shape,test.shape))\n",
    "    data_train = X.loc[train,:]\n",
    "    data_test = X.loc[test,:]\n",
    "    y_train = y.loc[train,:]\n",
    "    y_test = y.loc[test,:]\n",
    "    print(data_train.shape)\n",
    "    print(data_test.shape)\n",
    "    print(y_train.shape)\n",
    "    print(y_test.shape)"
   ]
  }
 ],
 "metadata": {
  "kernelspec": {
   "display_name": "Python 3",
   "language": "python",
   "name": "python3"
  },
  "language_info": {
   "codemirror_mode": {
    "name": "ipython",
    "version": 3
   },
   "file_extension": ".py",
   "mimetype": "text/x-python",
   "name": "python",
   "nbconvert_exporter": "python",
   "pygments_lexer": "ipython3",
   "version": "3.6.3"
  }
 },
 "nbformat": 4,
 "nbformat_minor": 2
}
